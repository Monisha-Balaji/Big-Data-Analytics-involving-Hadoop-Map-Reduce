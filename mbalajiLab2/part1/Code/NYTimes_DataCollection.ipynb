{
 "cells": [
  {
   "cell_type": "markdown",
   "metadata": {
    "collapsed": true
   },
   "source": [
    "## NYTimes Article Collection (published 2019) using Python"
   ]
  },
  {
   "cell_type": "markdown",
   "metadata": {},
   "source": [
    "## Topic - Crime\n",
    "## Sub-topics - Murder, Rape, Smuggling, Terrorism, Theft"
   ]
  },
  {
   "cell_type": "code",
   "execution_count": 2,
   "metadata": {},
   "outputs": [],
   "source": [
    "import time\n",
    "from nytimesarticle import articleAPI\n",
    "api = articleAPI(\"h8cAqAc9hjG1oLCxjhXywUyWAvEj4INQ\") "
   ]
  },
  {
   "cell_type": "markdown",
   "metadata": {},
   "source": [
    "## Collecting articles for \"CRIME\""
   ]
  },
  {
   "cell_type": "code",
   "execution_count": 5,
   "metadata": {},
   "outputs": [],
   "source": [
    "crime = []\n",
    "for i in range(1,500):\n",
    "    crime.append(api.search(q='crime', begin_date = 20190101, page=i))"
   ]
  },
  {
   "cell_type": "markdown",
   "metadata": {},
   "source": [
    "## Collecting articles for \"MURDER\""
   ]
  },
  {
   "cell_type": "code",
   "execution_count": null,
   "metadata": {
    "collapsed": true
   },
   "outputs": [],
   "source": [
    "murder = []\n",
    "for i in range(1,500):\n",
    "    murder.append(api.search(q='murder', begin_date = 20190101, page=i))"
   ]
  },
  {
   "cell_type": "markdown",
   "metadata": {},
   "source": [
    "## Collecting articles for \"RAPE\""
   ]
  },
  {
   "cell_type": "code",
   "execution_count": null,
   "metadata": {
    "collapsed": true
   },
   "outputs": [],
   "source": [
    "rape = []\n",
    "for i in range(1,500):\n",
    "    rape.append(api.search(q='rape', begin_date = 20190101, page=i))"
   ]
  },
  {
   "cell_type": "markdown",
   "metadata": {},
   "source": [
    "## Collecting articles for \"SMUGGLING\""
   ]
  },
  {
   "cell_type": "code",
   "execution_count": null,
   "metadata": {
    "collapsed": true
   },
   "outputs": [],
   "source": [
    "smug = []\n",
    "for i in range(1,500):\n",
    "    smug.append(api.search(q='smuggling', begin_date = 20190101, page=i))"
   ]
  },
  {
   "cell_type": "markdown",
   "metadata": {},
   "source": [
    "## Collecting articles for \"TERRORISM\""
   ]
  },
  {
   "cell_type": "code",
   "execution_count": 39,
   "metadata": {
    "collapsed": true
   },
   "outputs": [],
   "source": [
    "terror = []\n",
    "for i in range(1,500):\n",
    "    terror.append(api.search(q='terrorism', begin_date = 20190101, page=i))"
   ]
  },
  {
   "cell_type": "markdown",
   "metadata": {},
   "source": [
    "## Collecting articles for \"THEFT\""
   ]
  },
  {
   "cell_type": "code",
   "execution_count": null,
   "metadata": {
    "collapsed": true
   },
   "outputs": [],
   "source": [
    "theft = []\n",
    "for i in range(1,500):\n",
    "    theft.append(api.search(q='theft', begin_date = 20190101, page=i))"
   ]
  },
  {
   "cell_type": "markdown",
   "metadata": {},
   "source": [
    "## Extracting Urls and Copying into a file for Main Topic : CRIME"
   ]
  },
  {
   "cell_type": "code",
   "execution_count": 6,
   "metadata": {},
   "outputs": [],
   "source": [
    "with open(\"nytimes\\\\urls_crime.txt\", \"w\") as file:\n",
    "    for x in crime:\n",
    "        if 'response' in x.keys():\n",
    "            for j in x['response']['docs']:\n",
    "                file.write(j['web_url']+'\\n')"
   ]
  },
  {
   "cell_type": "markdown",
   "metadata": {},
   "source": [
    "## Extracting Urls and Copying into a file for Sub-Topic 1 : MURDER"
   ]
  },
  {
   "cell_type": "code",
   "execution_count": 4,
   "metadata": {
    "collapsed": true
   },
   "outputs": [],
   "source": [
    "with open(\"nytimes\\\\urls_murder.txt\", \"w\") as file:\n",
    "    for x in murder:\n",
    "        if 'response' in x.keys():\n",
    "            for j in x['response']['docs']:\n",
    "                file.write(j['web_url']+'\\n')"
   ]
  },
  {
   "cell_type": "markdown",
   "metadata": {},
   "source": [
    "## Extracting Urls and Copying into a file for Sub-Topic 2 : RAPE"
   ]
  },
  {
   "cell_type": "code",
   "execution_count": null,
   "metadata": {
    "collapsed": true
   },
   "outputs": [],
   "source": [
    "with open(\"nytimes\\\\urls_rape.txt\", \"w\") as file:\n",
    "    for x in rape:\n",
    "        if 'response' in x.keys():\n",
    "            for j in x['response']['docs']:\n",
    "                file.write(j['web_url']+'\\n')"
   ]
  },
  {
   "cell_type": "markdown",
   "metadata": {},
   "source": [
    "## Extracting Urls and Copying into a file for Sub-Topic 3 : SMUGGLING"
   ]
  },
  {
   "cell_type": "code",
   "execution_count": 7,
   "metadata": {
    "collapsed": true
   },
   "outputs": [],
   "source": [
    "with open(\"nytimes\\\\urls_smug.txt\", \"w\") as file:\n",
    "    for x in smug:\n",
    "        if 'response' in x.keys():\n",
    "            for j in x['response']['docs']:\n",
    "                file.write(j['web_url']+'\\n')"
   ]
  },
  {
   "cell_type": "markdown",
   "metadata": {},
   "source": [
    "## Extracting Urls and Copying into a file for Sub-Topic 4 : TERRORISM"
   ]
  },
  {
   "cell_type": "code",
   "execution_count": 16,
   "metadata": {
    "collapsed": true
   },
   "outputs": [],
   "source": [
    "with open(\"nytimes\\\\urls_terror.txt\", \"w\") as file:\n",
    "    for x in terror:\n",
    "        if 'response' in x.keys():\n",
    "            for j in x['response']['docs']:\n",
    "                file.write(j['web_url']+'\\n')"
   ]
  },
  {
   "cell_type": "markdown",
   "metadata": {},
   "source": [
    "## Extracting Urls and Copying into a file for Sub-Topic 5 : THEFT"
   ]
  },
  {
   "cell_type": "code",
   "execution_count": null,
   "metadata": {
    "collapsed": true
   },
   "outputs": [],
   "source": [
    "with open(\"nytimes\\\\urls_theft.txt\", \"w\") as file:\n",
    "    for x in theft:\n",
    "        if 'response' in x.keys():\n",
    "            for j in x['response']['docs']:\n",
    "                file.write(j['web_url']+'\\n')"
   ]
  }
 ],
 "metadata": {
  "anaconda-cloud": {},
  "kernelspec": {
   "display_name": "Python 3",
   "language": "python",
   "name": "python3"
  },
  "language_info": {
   "codemirror_mode": {
    "name": "ipython",
    "version": 3
   },
   "file_extension": ".py",
   "mimetype": "text/x-python",
   "name": "python",
   "nbconvert_exporter": "python",
   "pygments_lexer": "ipython3",
   "version": "3.6.5"
  }
 },
 "nbformat": 4,
 "nbformat_minor": 2
}
